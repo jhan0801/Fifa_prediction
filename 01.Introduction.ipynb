{
 "cells": [
  {
   "cell_type": "markdown",
   "metadata": {},
   "source": [
    "# Introduction"
   ]
  },
  {
   "cell_type": "markdown",
   "metadata": {},
   "source": [
    "## Abstract"
   ]
  },
  {
   "cell_type": "markdown",
   "metadata": {},
   "source": [
    "For this project, I analyzed Fifa 18's player data to see if there is any correlation within the data. Then, I wanted to predict player's position by their attributes so that when EA needs to classify this large data, machine learning can do automatic classification for them."
   ]
  },
  {
   "cell_type": "markdown",
   "metadata": {},
   "source": [
    "## Dataset"
   ]
  },
  {
   "cell_type": "markdown",
   "metadata": {},
   "source": [
    "The datasets I have chosen to work has 185 fields for every player in Fifa 18. The table contains player info such as age, club, league, nationality, salary and physical attributes including finishing, dribbling, skill moves and rating for each position.\n"
   ]
  },
  {
   "cell_type": "markdown",
   "metadata": {},
   "source": [
    "In this dataset, we will be using :\n",
    "  - `Physical attributes` that includes height, weight, body_type\n",
    "  - `Headline attributes` that includes pac, sho, pas, dri and etc.\n",
    "  - `Nationalitiy and Current League` to group by\n",
    "  - `Wages, Position, and Potential`"
   ]
  },
  {
   "cell_type": "markdown",
   "metadata": {},
   "source": [
    "## Index"
   ]
  },
  {
   "cell_type": "markdown",
   "metadata": {},
   "source": [
    "- `Import and Tidy` which imports data and check for its validity and cleans the data so it can be grouped and tranformed\n",
    "- `EDA` wihch explores the data and group them or transform appropriately. Then they will be visualized\n",
    "- `Modeling` Use bootstrap resampling to show statistical information\n",
    "- `Presentation` Notebook for the presentation"
   ]
  },
  {
   "cell_type": "markdown",
   "metadata": {},
   "source": [
    "## Citation\n",
    "\n",
    "This dataset is from Kaggle and can be found here https://www.kaggle.com/kevinmh/fifa-18-more-complete-player-dataset"
   ]
  },
  {
   "cell_type": "code",
   "execution_count": null,
   "metadata": {},
   "outputs": [],
   "source": []
  }
 ],
 "metadata": {
  "kernelspec": {
   "display_name": "Python 3",
   "language": "python",
   "name": "python3"
  },
  "language_info": {
   "codemirror_mode": {
    "name": "ipython",
    "version": 3
   },
   "file_extension": ".py",
   "mimetype": "text/x-python",
   "name": "python",
   "nbconvert_exporter": "python",
   "pygments_lexer": "ipython3",
   "version": "3.6.3"
  }
 },
 "nbformat": 4,
 "nbformat_minor": 2
}
